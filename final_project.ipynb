{
 "cells": [
  {
   "cell_type": "markdown",
   "id": "1c81516c-ec2c-46de-990b-3aa3f8ddc34b",
   "metadata": {},
   "source": [
    "# **DSC 270 Final Project**"
   ]
  },
  {
   "cell_type": "markdown",
   "id": "ef8a931e-dd4e-44bf-9674-699c49c8faf7",
   "metadata": {},
   "source": [
    "##### **Problem 1**"
   ]
  },
  {
   "cell_type": "code",
   "execution_count": 1,
   "id": "5a1285e5-e148-4dfd-a1ed-24d5e2fcd34f",
   "metadata": {},
   "outputs": [
    {
     "name": "stdout",
     "output_type": "stream",
     "text": [
      "      mpg  cylinders  displacement  horsepower  weight  acceleration  \\\n",
      "0    18.0          8         307.0       130.0    3504          12.0   \n",
      "1    15.0          8         350.0       165.0    3693          11.5   \n",
      "2    18.0          8         318.0       150.0    3436          11.0   \n",
      "3    16.0          8         304.0       150.0    3433          12.0   \n",
      "4    17.0          8         302.0       140.0    3449          10.5   \n",
      "..    ...        ...           ...         ...     ...           ...   \n",
      "393  27.0          4         140.0        86.0    2790          15.6   \n",
      "394  44.0          4          97.0        52.0    2130          24.6   \n",
      "395  32.0          4         135.0        84.0    2295          11.6   \n",
      "396  28.0          4         120.0        79.0    2625          18.6   \n",
      "397  31.0          4         119.0        82.0    2720          19.4   \n",
      "\n",
      "     model_year  origin                       name  \n",
      "0            70     usa  chevrolet chevelle malibu  \n",
      "1            70     usa          buick skylark 320  \n",
      "2            70     usa         plymouth satellite  \n",
      "3            70     usa              amc rebel sst  \n",
      "4            70     usa                ford torino  \n",
      "..          ...     ...                        ...  \n",
      "393          82     usa            ford mustang gl  \n",
      "394          82  europe                  vw pickup  \n",
      "395          82     usa              dodge rampage  \n",
      "396          82     usa                ford ranger  \n",
      "397          82     usa                 chevy s-10  \n",
      "\n",
      "[398 rows x 9 columns]\n"
     ]
    }
   ],
   "source": [
    "import seaborn as sn\n",
    "df = sn.load_dataset(\"mpg\")\n",
    "print(df)"
   ]
  },
  {
   "cell_type": "markdown",
   "id": "d7b5815f-7867-4d7b-8a7c-4f8a41e8b32e",
   "metadata": {},
   "source": [
    "#### **Problem 2**"
   ]
  },
  {
   "cell_type": "code",
   "execution_count": 2,
   "id": "58dd4442-d1ce-45c5-b523-539f2ad954d1",
   "metadata": {},
   "outputs": [],
   "source": [
    "cars = {}\n",
    "for name in df['name']:\n",
    "    if name in cars:\n",
    "        cars[name] += 1\n",
    "    else:\n",
    "        cars[name] = 1"
   ]
  },
  {
   "cell_type": "code",
   "execution_count": 3,
   "id": "e5829428-170b-46fd-9632-ee38b7004bdf",
   "metadata": {},
   "outputs": [],
   "source": [
    "cars['datsun 200sx'] = 21"
   ]
  },
  {
   "cell_type": "code",
   "execution_count": 4,
   "id": "6cd56291-e560-4644-b84a-78344141135e",
   "metadata": {},
   "outputs": [
    {
     "name": "stdout",
     "output_type": "stream",
     "text": [
      "datsun 200sx: 21\n",
      "chevrolet impala: 4\n",
      "plymouth fury iii: 3\n",
      "ford maverick: 5\n",
      "ford f250: 1\n",
      "amc gremlin: 4\n"
     ]
    }
   ],
   "source": [
    "print(\"datsun 200sx:\", cars['datsun 200sx'])\n",
    "print(\"chevrolet impala:\", cars['chevrolet impala']) \n",
    "print(\"plymouth fury iii:\", cars['plymouth fury iii'])\n",
    "print(\"ford maverick:\", cars['ford maverick'])\n",
    "print(\"ford f250:\", cars['ford f250'])\n",
    "print(\"amc gremlin:\", cars['amc gremlin'])"
   ]
  },
  {
   "cell_type": "markdown",
   "id": "83f316ea-95bf-45b6-ae98-4705cae6c2b9",
   "metadata": {},
   "source": [
    "#### **Problem 3**"
   ]
  },
  {
   "cell_type": "code",
   "execution_count": 5,
   "id": "e7ca2986-640a-4973-b980-c57fe930588f",
   "metadata": {},
   "outputs": [],
   "source": [
    "from bs4 import BeautifulSoup\n",
    "import pandas as pd"
   ]
  },
  {
   "cell_type": "code",
   "execution_count": 7,
   "id": "66c2d051-ae88-482c-8253-c0774ff12333",
   "metadata": {
    "scrolled": true
   },
   "outputs": [
    {
     "name": "stdout",
     "output_type": "stream",
     "text": [
      "                                               Game    Year                   Developer             Engine \n",
      "0                                Eye of the Beholder   1990            Westwood Studios               EotB \n",
      "1     Eye of the Beholder II: The Legend of Darkmoon   1991            Westwood Studios               EotB \n",
      "2   Eye of the Beholder III: Assault on Myth Drannor   1993                         SSI               EotB \n",
      "3                                       Dungeon Hack   1993    DreamForge Intertainment              Aesop \n",
      "4                                     Menzoberranzan   1994    DreamForge Intertainment          Ravenloft \n",
      "5                                  Pools of Darkness   1989                         SSI           Gold Box \n",
      "6                           Curse of the Azure Bonds   1989                         SSI           Gold Box \n",
      "7                                      Baldur's Gate   1998                     BioWare    Infinity Engine \n",
      "8                                       Icewind Dale   2000          Black Isle Studios    Infinity Engine \n",
      "9                                   Pool of Radiance   1988                         SSI           Gold Box \n"
     ]
    }
   ],
   "source": [
    "def main():\n",
    "    with open(\"SomeData.html\", 'r') as fp:\n",
    "        soup = BeautifulSoup(fp, 'html.parser')\n",
    "        root = soup.html\n",
    "        \n",
    "    tables = root.find_all('table') \n",
    "    table = tables[1]\n",
    "    \n",
    "    header_rows = table.find('tr')\n",
    "    header_elements = header_rows.find_all('th')\n",
    "\n",
    "    # Create an empty list to store the headers\n",
    "    headers = []\n",
    "    \n",
    "    for th in header_elements: \n",
    "        header_text = th.text\n",
    "        headers.append(header_text)\n",
    "\n",
    "    data = []\n",
    "    for tr in table.find_all('tr')[1:]: \n",
    "        row = []\n",
    "        for td in tr.find_all('td'):\n",
    "            cell_text = td.text\n",
    "            row.append(cell_text) # Append the cell text to the list\n",
    "        data.append(row) # Append the row data to the main data list\n",
    "\n",
    "    df = pd.DataFrame(data, columns=headers)\n",
    "    print(df.to_string())\n",
    "    \n",
    "if __name__ == \"__main__\":\n",
    "    main()"
   ]
  }
 ],
 "metadata": {
  "kernelspec": {
   "display_name": "Python 3 (ipykernel)",
   "language": "python",
   "name": "python3"
  },
  "language_info": {
   "codemirror_mode": {
    "name": "ipython",
    "version": 3
   },
   "file_extension": ".py",
   "mimetype": "text/x-python",
   "name": "python",
   "nbconvert_exporter": "python",
   "pygments_lexer": "ipython3",
   "version": "3.10.7"
  }
 },
 "nbformat": 4,
 "nbformat_minor": 5
}
